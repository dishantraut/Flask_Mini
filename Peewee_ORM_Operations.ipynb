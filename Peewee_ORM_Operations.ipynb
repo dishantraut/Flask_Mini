{
 "cells": [
  {
   "cell_type": "code",
   "execution_count": null,
   "metadata": {},
   "outputs": [],
   "source": [
    "\"\"\"\n",
    "# https://docs.peewee-orm.com/en/unstable-2.0/peewee/fields.html\n",
    "# https://docs.peewee-orm.com/en/unstable-2.0/index.html\n",
    "# https://docs.peewee-orm.com/en/latest/index.html\n",
    "\n",
    "# Models and Fields\n",
    "Model classes, Field instances and model instances all map to database concepts:\n",
    "\n",
    "# Thing           \t            # Corresponds to…\n",
    "Model class\t                    Database table\n",
    "Field instance\t                Column on a table\n",
    "Model instance\t                Row in a database table\n",
    "\n",
    "\"\"\"\n",
    "from prettytable import PrettyTable\n",
    "import datetime\n",
    "import peewee"
   ]
  },
  {
   "cell_type": "code",
   "execution_count": null,
   "metadata": {},
   "outputs": [],
   "source": [
    "# Format For Each Field = https://docs.peewee-orm.com/en/unstable-2.0/peewee/fields.html\n",
    "# Create a DataBase = wee.db\n",
    "db = peewee.SqliteDatabase(\"try_DB.db\")\n",
    "\n",
    "class Emp_Details(peewee.Model):\n",
    "    \"\"\"\n",
    "    ORM model for Emp_Details Table\n",
    "    \"\"\"\n",
    "    sr_no = peewee.PrimaryKeyField()\n",
    "    f_name = peewee.CharField(max_length=20)\n",
    "    l_name = peewee.CharField(max_length=20)\n",
    "    doj = peewee.DateField(formats='%d-%b-%Y')\n",
    "    dob = peewee.DateField(formats='%d-%b-%Y')\n",
    "    hobbies = peewee.TextField(null=False,default='NAN',unique=False)\n",
    "    loc = peewee.CharField()\n",
    "    smoker = peewee.BooleanField(null=False,unique=False,default='False')\n",
    "    \n",
    "    class Meta:\n",
    "        database = db"
   ]
  },
  {
   "cell_type": "code",
   "execution_count": null,
   "metadata": {},
   "outputs": [],
   "source": [
    "\"\"\" # Create Tables # \"\"\"\n",
    "try:\n",
    "    \n",
    "    print(\"DB Connect = \",db.connect())\n",
    "    Emp_Details.create_table()\n",
    "    print(\"DB Close = \",db.close())\n",
    "    \n",
    "except Exception as e:\n",
    "    print('Error = ',e)\n",
    "    print(\"DB Close = \",db.close())"
   ]
  },
  {
   "cell_type": "code",
   "execution_count": null,
   "metadata": {},
   "outputs": [],
   "source": [
    "\n",
    "\"\"\" # Insert Single Detail # \"\"\"\n",
    "try:\n",
    "    print(\"DB Connect = \",db.connect())\n",
    "    # First Employee\n",
    "    Emp_Details.create(\n",
    "                                f_name=\"Ritesh\",\n",
    "                                l_name=\"Kadam\",\n",
    "                                doj=datetime.date(2019,9,28).strftime(\"%d-%b-%Y\"),\n",
    "                                dob=datetime.date(1997,1,10).strftime(\"%d-%b-%Y\"),\n",
    "                                hobbies=\"Gyming\",\n",
    "                                loc=\"Solapur\",\n",
    "                                smoker=False\n",
    "                            )\n",
    "    # Second Employee\n",
    "    Emp_Details.create(\n",
    "                                f_name=\"Ashwini\",\n",
    "                                l_name=\"Gharal\",\n",
    "                                doj=datetime.date(2018,6,28).strftime(\"%d-%b-%Y\"),\n",
    "                                dob=datetime.date(1993,7,27).strftime(\"%d-%b-%Y\"),\n",
    "                                hobbies=\"Coding\",\n",
    "                                loc=\"Panvel\",\n",
    "                                smoker=False\n",
    "                            )\n",
    "    \n",
    "    print(\"DB Close = \",db.close())\n",
    "except Exception as e:\n",
    "    print(\"Error Single Insert = \",e)\n",
    "    print(\"DB Close = \",db.close())\n",
    "    print(\"Connection Closed\")"
   ]
  },
  {
   "cell_type": "code",
   "execution_count": null,
   "metadata": {},
   "outputs": [],
   "source": [
    "\"\"\" # Insert Multiple Details # \"\"\"\n",
    "try:\n",
    "    \n",
    "    db.close()\n",
    "    details = [{   \n",
    "                    \"f_name\" : \"Dishant\",\n",
    "                    \"l_name\" : \"Raut\",\n",
    "                    \"doj\" : datetime.date(2020,6,27).strftime(\"%d-%b-%Y\"),\n",
    "                    \"dob\" : datetime.date(1997,1,10).strftime(\"%d-%b-%Y\"),\n",
    "                    \"hobbies\" : \"Football,Reading\",\n",
    "                    \"loc\" : \"Bhandup\",\n",
    "                    \"smoker\" : False\n",
    "               },\n",
    "                {  \n",
    "                    \"f_name\" : \"Priyanshu\",\n",
    "                    \"l_name\" : \"Raut\",\n",
    "                    \"doj\" : datetime.date(2018,12,3).strftime(\"%d-%b-%Y\"),\n",
    "                    \"dob\" : datetime.date(1999,3,10).strftime(\"%d-%b-%Y\"),\n",
    "                    \"hobbies\" : \"Games\",\n",
    "                    \"loc\" : \"Ghatkopar\",\n",
    "                    \"smoker\" : True\n",
    "               },\n",
    "               {\n",
    "                    \"f_name\" : \"Rajendra\",\n",
    "                    \"l_name\" : \"Raut\",\n",
    "                    \"doj\" : datetime.date(1998,1,3).strftime(\"%d-%b-%Y\"),\n",
    "                    \"dob\" : datetime.date(1986,12,5).strftime(\"%d-%b-%Y\"),\n",
    "                    \"hobbies\" : \"Food Love\",\n",
    "                    \"loc\" : \"Kopar\",\n",
    "                    \"smoker\" : False\n",
    "               }\n",
    "              ]\n",
    "\n",
    "    print(\"DB Connect = \",db.connect())\n",
    "    with db.atomic():\n",
    "        for e_d in details:\n",
    "            a = Emp_Details.create(**e_d)\n",
    "            print(\"a Save = \",a.save())\n",
    "    print(\"DB Close = \",db.close())\n",
    "    \n",
    "except Exception as e:\n",
    "    print(\"Error Multiple insert = \",e)\n",
    "    print(\"DB Close = \",db.close())\n"
   ]
  },
  {
   "cell_type": "code",
   "execution_count": null,
   "metadata": {},
   "outputs": [],
   "source": [
    "\"\"\" # To View All Data In Table # \"\"\"\n",
    "mytable = PrettyTable(['Sr_No','First_Name','Last_Name','DOJ','DOB','Hobbies','Location','Smoker'])\n",
    "notes = Emp_Details.select()\n",
    "for note in notes:\n",
    "    mytable.add_row([f'{note.sr_no}',f'{note.f_name}',f'{note.l_name}',f'{note.doj}',f'{note.dob}',f'{note.hobbies}',\n",
    "                     f'{note.loc}',f'{note.smoker}'])\n",
    "print(mytable)"
   ]
  },
  {
   "cell_type": "code",
   "execution_count": null,
   "metadata": {},
   "outputs": [],
   "source": [
    "\"\"\" # Count No. of ROWS # \"\"\"\n",
    "n = Emp_Details.select(Emp_Details.f_name, Emp_Details.loc).count()\n",
    "print('Number of rows found / selected = {}'.format(n))\n",
    "n = Emp_Details.select().where(Emp_Details.f_name == \"Ritesh\").count()\n",
    "print('Number of rows found / selected = {}'.format(n))"
   ]
  },
  {
   "cell_type": "code",
   "execution_count": null,
   "metadata": {},
   "outputs": [],
   "source": [
    "\"\"\" # Update ROW # \"\"\"\n",
    "query = Emp_Details.update(f_name = 'Ashwini',loc='Dubai').where(Emp_Details.sr_no == 2)\n",
    "n = query.execute()\n",
    "print('Number of rows updated = {}'.format(n))"
   ]
  },
  {
   "cell_type": "code",
   "execution_count": null,
   "metadata": {},
   "outputs": [],
   "source": [
    "\"\"\" # Delete Query # \"\"\"\n",
    "query = Emp_Details.delete().where(Emp_Details.f_name == \"Dishant\")\n",
    "query.execute()  # Returns the number of rows deleted."
   ]
  },
  {
   "cell_type": "code",
   "execution_count": null,
   "metadata": {},
   "outputs": [],
   "source": [
    "\"\"\" # Delete Query # \"\"\"\n",
    "ED = Emp_Details.select().where((Emp_Details.sr_no > 2) & (Emp_Details.sr_no < 6))\n",
    "\n",
    "for ed in ED:\n",
    "    print('{} {} on {}'.format(ed.sr_no, ed.loc, ed.dob))"
   ]
  },
  {
   "cell_type": "code",
   "execution_count": null,
   "metadata": {},
   "outputs": [],
   "source": [
    "\"\"\" # Get Single Instance # \"\"\"\n",
    "detail = Emp_Details.get(Emp_Details.f_name == 'Dishant')\n",
    "\n",
    "print(detail.sr_no)\n",
    "print(detail.l_name)\n",
    "print(detail.loc)"
   ]
  },
  {
   "cell_type": "code",
   "execution_count": null,
   "metadata": {},
   "outputs": [],
   "source": [
    "\"\"\" # Selecting Specific Columns # \"\"\"\n",
    "notes = Emp_Details.select(Emp_Details.f_name, Emp_Details.l_name).limit(2)\n",
    "\n",
    "output = [e for e in notes.tuples()]\n",
    "print(output)"
   ]
  },
  {
   "cell_type": "code",
   "execution_count": null,
   "metadata": {},
   "outputs": [],
   "source": [
    "\"\"\" # Count Instances # \"\"\"\n",
    "n = Emp_Details.select().count()\n",
    "print(\"Total Rows = \",n)\n",
    "\n",
    "n2 = Emp_Details.select().where(Emp_Details.dob >= datetime.date(2018, 10, 20)).count()\n",
    "print(\"Filtered Count = \",n2)"
   ]
  },
  {
   "cell_type": "code",
   "execution_count": null,
   "metadata": {},
   "outputs": [],
   "source": [
    "\"\"\"# show SQL statements #\"\"\"\n",
    "note3 = Emp_Details.select().where(Emp_Details.sr_no == 3)\n",
    "print(note3.sql())"
   ]
  },
  {
   "cell_type": "code",
   "execution_count": null,
   "metadata": {},
   "outputs": [],
   "source": [
    "# offset, limit\n",
    "notes = Emp_Details.select().offset(2).limit(3)\n",
    "\n",
    "for note in notes:\n",
    "    print(note.f_name, note.l_name, note.doj)"
   ]
  },
  {
   "cell_type": "code",
   "execution_count": null,
   "metadata": {},
   "outputs": [],
   "source": [
    "Emp_Details.select().dicts().get()"
   ]
  },
  {
   "cell_type": "code",
   "execution_count": null,
   "metadata": {},
   "outputs": [],
   "source": [
    "\"\"\" Truncate Table \"\"\"\n",
    "print(Emp_Details.truncate_table())\n",
    "\"\"\" Drop Table \"\"\"\n",
    "print(Emp_Details.drop_table())"
   ]
  },
  {
   "cell_type": "code",
   "execution_count": null,
   "metadata": {},
   "outputs": [],
   "source": []
  },
  {
   "cell_type": "code",
   "execution_count": null,
   "metadata": {},
   "outputs": [],
   "source": []
  },
  {
   "cell_type": "code",
   "execution_count": null,
   "metadata": {},
   "outputs": [],
   "source": []
  },
  {
   "cell_type": "code",
   "execution_count": null,
   "metadata": {},
   "outputs": [],
   "source": []
  },
  {
   "cell_type": "code",
   "execution_count": null,
   "metadata": {},
   "outputs": [],
   "source": []
  },
  {
   "cell_type": "code",
   "execution_count": null,
   "metadata": {},
   "outputs": [],
   "source": []
  }
 ],
 "metadata": {
  "kernelspec": {
   "display_name": "Python 3",
   "language": "python",
   "name": "python3"
  },
  "language_info": {
   "codemirror_mode": {
    "name": "ipython",
    "version": 3
   },
   "file_extension": ".py",
   "mimetype": "text/x-python",
   "name": "python",
   "nbconvert_exporter": "python",
   "pygments_lexer": "ipython3",
   "version": "3.8.5"
  }
 },
 "nbformat": 4,
 "nbformat_minor": 4
}
